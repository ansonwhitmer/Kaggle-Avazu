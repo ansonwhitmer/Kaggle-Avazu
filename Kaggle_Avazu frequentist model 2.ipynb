{
 "metadata": {
  "name": "",
  "signature": "sha256:32908eaa78fe159b95558d3d55224284df88c4f211938be8e0b67fb17803a195"
 },
 "nbformat": 3,
 "nbformat_minor": 0,
 "worksheets": [
  {
   "cells": [
    {
     "cell_type": "heading",
     "level": 2,
     "metadata": {},
     "source": [
      "0. Internal Setup & Testing"
     ]
    },
    {
     "cell_type": "markdown",
     "metadata": {},
     "source": [
      "Let's ensure we're working with Git correctly & that we're in the folder that we should be"
     ]
    },
    {
     "cell_type": "code",
     "collapsed": false,
     "input": [
      "#Check what directory you're currently working out of\n",
      "import os\n",
      "os.getcwd()"
     ],
     "language": "python",
     "metadata": {},
     "outputs": [
      {
       "metadata": {},
       "output_type": "pyout",
       "prompt_number": 22,
       "text": [
        "'C:\\\\Users\\\\scott.stukey\\\\Kaggle-Avazu'"
       ]
      }
     ],
     "prompt_number": 22
    },
    {
     "cell_type": "code",
     "collapsed": false,
     "input": [
      "#importing our key libraries\n",
      "import pandas as pd\n",
      "import requests"
     ],
     "language": "python",
     "metadata": {},
     "outputs": [],
     "prompt_number": 23
    },
    {
     "cell_type": "code",
     "collapsed": false,
     "input": [
      "#Since the train.csv file is so big, lets split the file into multiple flies.\n",
      "#Each file will contain 1M records (+ the header!)\n",
      "\n",
      "i = 0\n",
      "numLines = 1000000\n",
      "\n",
      "f = open('train.csv', 'r')\n",
      "\n",
      "header = f.readline()\n",
      "\n",
      "while f.readline() != '':\n",
      "    lines = []\n",
      "    lines.append(header)\n",
      "    for curLine in range(numLines):\n",
      "        lines.append(f.readline())\n",
      "    file_split = 'train_{}.csv'.format(i)\n",
      "    with open(file_split, 'w') as tmp:\n",
      "        tmp.writelines(lines)\n",
      "    #print i   #Print the current value of i as a check\n",
      "    i = i+1\n",
      "    "
     ],
     "language": "python",
     "metadata": {},
     "outputs": [],
     "prompt_number": 2
    },
    {
     "cell_type": "heading",
     "level": 2,
     "metadata": {},
     "source": [
      "1. Our Simple Model - Based on the dataset's overall Mean CTR"
     ]
    },
    {
     "cell_type": "markdown",
     "metadata": {},
     "source": [
      "Our first model will be based off of frequentist statistics, in which we estimate ALL test ad impressions have equal probability of being clicked. We will base that probability on the aggregate CTR of the training dataset"
     ]
    },
    {
     "cell_type": "code",
     "collapsed": false,
     "input": [],
     "language": "python",
     "metadata": {},
     "outputs": []
    },
    {
     "cell_type": "code",
     "collapsed": false,
     "input": [
      "import sys\n",
      "import os.path\n",
      "import re\n",
      "import pandas as pd\n",
      "file_names=[]\n",
      "for i in os.listdir(os.getcwd()):\n",
      "    if re.match('train_',i):\n",
      "        file_names.append(i)\n",
      "print file_names  "
     ],
     "language": "python",
     "metadata": {},
     "outputs": [
      {
       "output_type": "stream",
       "stream": "stdout",
       "text": [
        "['train_0.csv', 'train_1.csv', 'train_10.csv', 'train_11.csv', 'train_12.csv', 'train_13.csv', 'train_14.csv', 'train_15.csv', 'train_16.csv', 'train_17.csv', 'train_18.csv', 'train_19.csv', 'train_2.csv', 'train_20.csv', 'train_21.csv', 'train_22.csv', 'train_23.csv', 'train_24.csv', 'train_25.csv', 'train_26.csv', 'train_27.csv', 'train_28.csv', 'train_29.csv', 'train_3.csv', 'train_30.csv', 'train_31.csv', 'train_32.csv', 'train_33.csv', 'train_34.csv', 'train_35.csv', 'train_36.csv', 'train_37.csv', 'train_38.csv', 'train_39.csv', 'train_4.csv', 'train_40.csv', 'train_5.csv', 'train_6.csv', 'train_7.csv', 'train_8.csv', 'train_9.csv']\n"
       ]
      }
     ],
     "prompt_number": 25
    },
    {
     "cell_type": "code",
     "collapsed": false,
     "input": [
      "import numpy as np\n",
      "\n",
      "file_means=[]\n",
      "for i in range(len(file_names)):\n",
      "    train_df = pd.DataFrame.from_csv(file_names[i], index_col=None)\n",
      "    file_means.append(np.mean(train_df.click))\n",
      "print file_means"
     ],
     "language": "python",
     "metadata": {},
     "outputs": [
      {
       "output_type": "stream",
       "stream": "stdout",
       "text": [
        "[0.160219, 0.16298899999999999, 0.17377799999999999, 0.19914000000000001, 0.17558499999999999, 0.173702, 0.17687600000000001, 0.182532, 0.15828900000000001, 0.18182599999999999, 0.19079099999999999, 0.17913799999999999, 0.19040000000000001, 0.191522, 0.18152299999999999, 0.18623300000000001, 0.17486199999999999, 0.18427099999999999, 0.187884, 0.17083699999999999, 0.17332700000000001, 0.139762, 0.14912400000000001, 0.18172099999999999, 0.154722, 0.148948, 0.15722, 0.14773900000000001, 0.155112, 0.15875, 0.15185699999999999, 0.16786400000000001, 0.16875000000000001, 0.18438099999999999, 0.173676, 0.18035045672213856, 0.156995, 0.13856199999999999, 0.14272599999999999, 0.174063, 0.180002]\n"
       ]
      }
     ],
     "prompt_number": 34
    },
    {
     "cell_type": "code",
     "collapsed": false,
     "input": [
      "file_lengths=[]\n",
      "for i in range(len(file_names)):\n",
      "    train_df = pd.DataFrame.from_csv(file_names[i], index_col=None)\n",
      "    file_lengths.append(len(train_df.click))\n",
      "print file_lengths"
     ],
     "language": "python",
     "metadata": {},
     "outputs": [
      {
       "output_type": "stream",
       "stream": "stdout",
       "text": [
        "[1000000, 1000000, 1000000, 1000000, 1000000, 1000000, 1000000, 1000000, 1000000, 1000000, 1000000, 1000000, 1000000, 1000000, 1000000, 1000000, 1000000, 1000000, 1000000, 1000000, 1000000, 1000000, 1000000, 1000000, 1000000, 1000000, 1000000, 1000000, 1000000, 1000000, 1000000, 1000000, 1000000, 1000000, 1000000, 428926, 1000000, 1000000, 1000000, 1000000, 1000000]\n"
       ]
      }
     ],
     "prompt_number": 39
    },
    {
     "cell_type": "code",
     "collapsed": false,
     "input": [
      "cnt=0\n",
      "for i in range(len(file_lengths)):\n",
      "    cnt+=file_lengths[i]\n",
      "print cnt\n",
      "\n",
      "products=[]\n",
      "for i in range(len(file_lengths)):\n",
      "    products.append((np.multiply(file_lengths[i],file_means[i])))\n",
      "print products\n",
      "\n",
      "total_products=0\n",
      "for i in range(len(products)):\n",
      "    total_products+=products[i]\n",
      "print total_products\n",
      "\n",
      "scaled_mean=total_products/cnt\n",
      "print (str(\"scaled mean:\"),scaled_mean)\n",
      "\n",
      "final_mean_withoutscaling=np.mean(file_means)\n",
      "print final_mean_withoutscaling    \n"
     ],
     "language": "python",
     "metadata": {},
     "outputs": [
      {
       "output_type": "stream",
       "stream": "stdout",
       "text": [
        "40428926\n",
        "[160219.0, 162989.0, 173778.0, 199140.0, 175585.0, 173702.0, 176876.0, 182532.0, 158289.0, 181826.0, 190791.0, 179138.0, 190400.0, 191522.0, 181523.0, 186233.0, 174862.0, 184271.0, 187884.0, 170837.0, 173327.0, 139762.0, 149124.0, 181721.0, 154722.0, 148948.0, 157220.0, 147739.0, 155112.0, 158750.0, 151857.0, 167864.0, 168750.0, 184381.0, 173676.0, 77357.0, 156995.0, 138562.0, 142726.0, 174063.0, 180002.0]\n",
        "6865055.0\n",
        "('scaled mean:', 0.16980552488582062)\n",
        "0.169952401383\n"
       ]
      }
     ],
     "prompt_number": 59
    },
    {
     "cell_type": "code",
     "collapsed": false,
     "input": [],
     "language": "python",
     "metadata": {},
     "outputs": []
    },
    {
     "cell_type": "code",
     "collapsed": false,
     "input": [
      "#load the training data and find out the CTR, in aggregate, of the ads\n",
      "test_df = pd.DataFrame.from_csv('test.csv', index_col=None)"
     ],
     "language": "python",
     "metadata": {},
     "outputs": [],
     "prompt_number": 61
    },
    {
     "cell_type": "code",
     "collapsed": false,
     "input": [
      "#overview of the training data - the 'click' column is the one we're trying to predict\n",
      "print len(test_df)\n",
      "test_df.head()\n",
      "test_df.describe()"
     ],
     "language": "python",
     "metadata": {},
     "outputs": [
      {
       "output_type": "stream",
       "stream": "stdout",
       "text": [
        "4577464\n"
       ]
      },
      {
       "html": [
        "<div style=\"max-height:1000px;max-width:1500px;overflow:auto;\">\n",
        "<table border=\"1\" class=\"dataframe\">\n",
        "  <thead>\n",
        "    <tr style=\"text-align: right;\">\n",
        "      <th></th>\n",
        "      <th>hour</th>\n",
        "      <th>C1</th>\n",
        "      <th>banner_pos</th>\n",
        "      <th>device_type</th>\n",
        "      <th>device_conn_type</th>\n",
        "      <th>C14</th>\n",
        "      <th>C15</th>\n",
        "      <th>C16</th>\n",
        "      <th>C17</th>\n",
        "      <th>C18</th>\n",
        "      <th>C19</th>\n",
        "      <th>C20</th>\n",
        "      <th>C21</th>\n",
        "    </tr>\n",
        "  </thead>\n",
        "  <tbody>\n",
        "    <tr>\n",
        "      <th>count</th>\n",
        "      <td>  4577464.000000</td>\n",
        "      <td> 4577464.000000</td>\n",
        "      <td> 4577464.000000</td>\n",
        "      <td> 4577464.000000</td>\n",
        "      <td> 4577464.000000</td>\n",
        "      <td> 4577464.000000</td>\n",
        "      <td> 4577464.000000</td>\n",
        "      <td> 4577464.000000</td>\n",
        "      <td> 4577464.000000</td>\n",
        "      <td> 4577464.000000</td>\n",
        "      <td> 4577464.000000</td>\n",
        "      <td> 4577464.000000</td>\n",
        "      <td> 4577464.000000</td>\n",
        "    </tr>\n",
        "    <tr>\n",
        "      <th>mean</th>\n",
        "      <td> 14103111.607538</td>\n",
        "      <td>    1004.988254</td>\n",
        "      <td>       0.211035</td>\n",
        "      <td>       1.009555</td>\n",
        "      <td>       0.374827</td>\n",
        "      <td>   21713.790796</td>\n",
        "      <td>     320.223662</td>\n",
        "      <td>      59.546721</td>\n",
        "      <td>    2469.186083</td>\n",
        "      <td>       1.304855</td>\n",
        "      <td>     185.133917</td>\n",
        "      <td>   53471.380461</td>\n",
        "      <td>      91.955479</td>\n",
        "    </tr>\n",
        "    <tr>\n",
        "      <th>std</th>\n",
        "      <td>       44.774298</td>\n",
        "      <td>       0.930546</td>\n",
        "      <td>       0.472450</td>\n",
        "      <td>       0.427875</td>\n",
        "      <td>       0.896346</td>\n",
        "      <td>    3765.319636</td>\n",
        "      <td>      28.680907</td>\n",
        "      <td>      46.492258</td>\n",
        "      <td>     475.679879</td>\n",
        "      <td>       1.305181</td>\n",
        "      <td>     262.293299</td>\n",
        "      <td>   49944.068018</td>\n",
        "      <td>      83.940109</td>\n",
        "    </tr>\n",
        "    <tr>\n",
        "      <th>min</th>\n",
        "      <td> 14103100.000000</td>\n",
        "      <td>    1001.000000</td>\n",
        "      <td>       0.000000</td>\n",
        "      <td>       0.000000</td>\n",
        "      <td>       0.000000</td>\n",
        "      <td>     375.000000</td>\n",
        "      <td>     120.000000</td>\n",
        "      <td>      20.000000</td>\n",
        "      <td>     112.000000</td>\n",
        "      <td>       0.000000</td>\n",
        "      <td>      33.000000</td>\n",
        "      <td>      -1.000000</td>\n",
        "      <td>      13.000000</td>\n",
        "    </tr>\n",
        "    <tr>\n",
        "      <th>25%</th>\n",
        "      <td> 14103107.000000</td>\n",
        "      <td>    1005.000000</td>\n",
        "      <td>       0.000000</td>\n",
        "      <td>       1.000000</td>\n",
        "      <td>       0.000000</td>\n",
        "      <td>   21611.000000</td>\n",
        "      <td>     320.000000</td>\n",
        "      <td>      50.000000</td>\n",
        "      <td>    2480.000000</td>\n",
        "      <td>       0.000000</td>\n",
        "      <td>      35.000000</td>\n",
        "      <td>      -1.000000</td>\n",
        "      <td>      23.000000</td>\n",
        "    </tr>\n",
        "    <tr>\n",
        "      <th>50%</th>\n",
        "      <td> 14103112.000000</td>\n",
        "      <td>    1005.000000</td>\n",
        "      <td>       0.000000</td>\n",
        "      <td>       1.000000</td>\n",
        "      <td>       0.000000</td>\n",
        "      <td>   23137.000000</td>\n",
        "      <td>     320.000000</td>\n",
        "      <td>      50.000000</td>\n",
        "      <td>    2664.000000</td>\n",
        "      <td>       1.000000</td>\n",
        "      <td>      39.000000</td>\n",
        "      <td>  100074.000000</td>\n",
        "      <td>      51.000000</td>\n",
        "    </tr>\n",
        "    <tr>\n",
        "      <th>75%</th>\n",
        "      <td> 14103116.000000</td>\n",
        "      <td>    1005.000000</td>\n",
        "      <td>       0.000000</td>\n",
        "      <td>       1.000000</td>\n",
        "      <td>       0.000000</td>\n",
        "      <td>   24085.000000</td>\n",
        "      <td>     320.000000</td>\n",
        "      <td>      50.000000</td>\n",
        "      <td>    2761.000000</td>\n",
        "      <td>       3.000000</td>\n",
        "      <td>     295.000000</td>\n",
        "      <td>  100111.000000</td>\n",
        "      <td>     221.000000</td>\n",
        "    </tr>\n",
        "    <tr>\n",
        "      <th>max</th>\n",
        "      <td> 14103123.000000</td>\n",
        "      <td>    1012.000000</td>\n",
        "      <td>       7.000000</td>\n",
        "      <td>       5.000000</td>\n",
        "      <td>       5.000000</td>\n",
        "      <td>   24349.000000</td>\n",
        "      <td>    1024.000000</td>\n",
        "      <td>    1024.000000</td>\n",
        "      <td>    2793.000000</td>\n",
        "      <td>       3.000000</td>\n",
        "      <td>    1831.000000</td>\n",
        "      <td>  100248.000000</td>\n",
        "      <td>     255.000000</td>\n",
        "    </tr>\n",
        "  </tbody>\n",
        "</table>\n",
        "</div>"
       ],
       "metadata": {},
       "output_type": "pyout",
       "prompt_number": 64,
       "text": [
        "                  hour              C1      banner_pos     device_type  \\\n",
        "count   4577464.000000  4577464.000000  4577464.000000  4577464.000000   \n",
        "mean   14103111.607538     1004.988254        0.211035        1.009555   \n",
        "std          44.774298        0.930546        0.472450        0.427875   \n",
        "min    14103100.000000     1001.000000        0.000000        0.000000   \n",
        "25%    14103107.000000     1005.000000        0.000000        1.000000   \n",
        "50%    14103112.000000     1005.000000        0.000000        1.000000   \n",
        "75%    14103116.000000     1005.000000        0.000000        1.000000   \n",
        "max    14103123.000000     1012.000000        7.000000        5.000000   \n",
        "\n",
        "       device_conn_type             C14             C15             C16  \\\n",
        "count    4577464.000000  4577464.000000  4577464.000000  4577464.000000   \n",
        "mean           0.374827    21713.790796      320.223662       59.546721   \n",
        "std            0.896346     3765.319636       28.680907       46.492258   \n",
        "min            0.000000      375.000000      120.000000       20.000000   \n",
        "25%            0.000000    21611.000000      320.000000       50.000000   \n",
        "50%            0.000000    23137.000000      320.000000       50.000000   \n",
        "75%            0.000000    24085.000000      320.000000       50.000000   \n",
        "max            5.000000    24349.000000     1024.000000     1024.000000   \n",
        "\n",
        "                  C17             C18             C19             C20  \\\n",
        "count  4577464.000000  4577464.000000  4577464.000000  4577464.000000   \n",
        "mean      2469.186083        1.304855      185.133917    53471.380461   \n",
        "std        475.679879        1.305181      262.293299    49944.068018   \n",
        "min        112.000000        0.000000       33.000000       -1.000000   \n",
        "25%       2480.000000        0.000000       35.000000       -1.000000   \n",
        "50%       2664.000000        1.000000       39.000000   100074.000000   \n",
        "75%       2761.000000        3.000000      295.000000   100111.000000   \n",
        "max       2793.000000        3.000000     1831.000000   100248.000000   \n",
        "\n",
        "                  C21  \n",
        "count  4577464.000000  \n",
        "mean        91.955479  \n",
        "std         83.940109  \n",
        "min         13.000000  \n",
        "25%         23.000000  \n",
        "50%         51.000000  \n",
        "75%        221.000000  \n",
        "max        255.000000  "
       ]
      }
     ],
     "prompt_number": 64
    },
    {
     "cell_type": "code",
     "collapsed": false,
     "input": [
      "#Create a submission dataframe with only the ID's from the test set\n",
      "train_mean_ctr = scaled_mean\n",
      "submission_df = pd.DataFrame(test_df.iloc[:,0]) #column 0 is the id column\n",
      "submission_df['click'] = train_mean_ctr\n",
      "submission_df.head()"
     ],
     "language": "python",
     "metadata": {},
     "outputs": [
      {
       "html": [
        "<div style=\"max-height:1000px;max-width:1500px;overflow:auto;\">\n",
        "<table border=\"1\" class=\"dataframe\">\n",
        "  <thead>\n",
        "    <tr style=\"text-align: right;\">\n",
        "      <th></th>\n",
        "      <th>id</th>\n",
        "      <th>click</th>\n",
        "    </tr>\n",
        "  </thead>\n",
        "  <tbody>\n",
        "    <tr>\n",
        "      <th>0</th>\n",
        "      <td> 10000174058809263569</td>\n",
        "      <td> 0.169806</td>\n",
        "    </tr>\n",
        "    <tr>\n",
        "      <th>1</th>\n",
        "      <td> 10000182526920855428</td>\n",
        "      <td> 0.169806</td>\n",
        "    </tr>\n",
        "    <tr>\n",
        "      <th>2</th>\n",
        "      <td> 10000554139829213984</td>\n",
        "      <td> 0.169806</td>\n",
        "    </tr>\n",
        "    <tr>\n",
        "      <th>3</th>\n",
        "      <td> 10001094637809798845</td>\n",
        "      <td> 0.169806</td>\n",
        "    </tr>\n",
        "    <tr>\n",
        "      <th>4</th>\n",
        "      <td> 10001377041558670745</td>\n",
        "      <td> 0.169806</td>\n",
        "    </tr>\n",
        "  </tbody>\n",
        "</table>\n",
        "</div>"
       ],
       "metadata": {},
       "output_type": "pyout",
       "prompt_number": 65,
       "text": [
        "                     id     click\n",
        "0  10000174058809263569  0.169806\n",
        "1  10000182526920855428  0.169806\n",
        "2  10000554139829213984  0.169806\n",
        "3  10001094637809798845  0.169806\n",
        "4  10001377041558670745  0.169806"
       ]
      }
     ],
     "prompt_number": 65
    },
    {
     "cell_type": "code",
     "collapsed": false,
     "input": [
      "#Export our submission!\n",
      "submission_df.to_csv('frequentist_model_submission_2015-01-09.csv', index=False)"
     ],
     "language": "python",
     "metadata": {},
     "outputs": [],
     "prompt_number": 66
    },
    {
     "cell_type": "code",
     "collapsed": false,
     "input": [],
     "language": "python",
     "metadata": {},
     "outputs": []
    }
   ],
   "metadata": {}
  }
 ]
}