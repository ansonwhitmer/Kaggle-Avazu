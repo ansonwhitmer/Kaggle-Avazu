{
 "metadata": {
  "name": "",
  "signature": "sha256:a0b73455001eab779f68006abedd9399eb82929aca52002444a5e3460c891ea6"
 },
 "nbformat": 3,
 "nbformat_minor": 0,
 "worksheets": [
  {
   "cells": [
    {
     "cell_type": "heading",
     "level": 2,
     "metadata": {},
     "source": [
      "0. Internal Setup & Testing"
     ]
    },
    {
     "cell_type": "markdown",
     "metadata": {},
     "source": [
      "Let's ensure we're working with Git correctly & that we're in the folder that we should be"
     ]
    },
    {
     "cell_type": "code",
     "collapsed": false,
     "input": [
      "#Check what directory you're currently working out of\n",
      "import os\n",
      "os.getcwd()"
     ],
     "language": "python",
     "metadata": {},
     "outputs": [
      {
       "metadata": {},
       "output_type": "pyout",
       "prompt_number": 22,
       "text": [
        "'C:\\\\Users\\\\scott.stukey\\\\Kaggle-Avazu'"
       ]
      }
     ],
     "prompt_number": 22
    },
    {
     "cell_type": "code",
     "collapsed": false,
     "input": [
      "#importing our key libraries\n",
      "import pandas as pd\n",
      "import requests"
     ],
     "language": "python",
     "metadata": {},
     "outputs": [],
     "prompt_number": 23
    },
    {
     "cell_type": "code",
     "collapsed": false,
     "input": [
      "#Since the train.csv file is so big, lets split the file into multiple flies.\n",
      "#Each file will contain 1M records (+ the header!)\n",
      "\n",
      "i = 0\n",
      "numLines = 1000000\n",
      "\n",
      "f = open('data/train.csv', 'r')\n",
      "\n",
      "header = f.readline()\n",
      "\n",
      "while f.readline() != '':\n",
      "    lines = []\n",
      "    lines.append(header)\n",
      "    for curLine in range(numLines):\n",
      "        lines.append(f.readline())\n",
      "    file_split = 'data/train_{}.csv'.format(i)\n",
      "    with open(file_split, 'w') as tmp:\n",
      "        tmp.writelines(lines)\n",
      "    #print i   #Print the current value of i as a check\n",
      "    i = i+1\n",
      "    "
     ],
     "language": "python",
     "metadata": {},
     "outputs": [
      {
       "output_type": "stream",
       "stream": "stdout",
       "text": [
        "1\n",
        "2"
       ]
      },
      {
       "output_type": "stream",
       "stream": "stdout",
       "text": [
        "\n",
        "3"
       ]
      },
      {
       "output_type": "stream",
       "stream": "stdout",
       "text": [
        "\n",
        "4"
       ]
      },
      {
       "output_type": "stream",
       "stream": "stdout",
       "text": [
        "\n",
        "5"
       ]
      },
      {
       "output_type": "stream",
       "stream": "stdout",
       "text": [
        "\n",
        "6"
       ]
      },
      {
       "output_type": "stream",
       "stream": "stdout",
       "text": [
        "\n",
        "7"
       ]
      },
      {
       "output_type": "stream",
       "stream": "stdout",
       "text": [
        "\n",
        "8"
       ]
      },
      {
       "output_type": "stream",
       "stream": "stdout",
       "text": [
        "\n",
        "9"
       ]
      },
      {
       "output_type": "stream",
       "stream": "stdout",
       "text": [
        "\n",
        "10"
       ]
      },
      {
       "output_type": "stream",
       "stream": "stdout",
       "text": [
        "\n",
        "11"
       ]
      },
      {
       "output_type": "stream",
       "stream": "stdout",
       "text": [
        "\n",
        "12"
       ]
      },
      {
       "output_type": "stream",
       "stream": "stdout",
       "text": [
        "\n",
        "13"
       ]
      },
      {
       "output_type": "stream",
       "stream": "stdout",
       "text": [
        "\n",
        "14"
       ]
      },
      {
       "output_type": "stream",
       "stream": "stdout",
       "text": [
        "\n",
        "15"
       ]
      },
      {
       "output_type": "stream",
       "stream": "stdout",
       "text": [
        "\n",
        "16"
       ]
      },
      {
       "output_type": "stream",
       "stream": "stdout",
       "text": [
        "\n",
        "17"
       ]
      },
      {
       "output_type": "stream",
       "stream": "stdout",
       "text": [
        "\n",
        "18"
       ]
      },
      {
       "output_type": "stream",
       "stream": "stdout",
       "text": [
        "\n",
        "19"
       ]
      },
      {
       "output_type": "stream",
       "stream": "stdout",
       "text": [
        "\n",
        "20"
       ]
      },
      {
       "output_type": "stream",
       "stream": "stdout",
       "text": [
        "\n",
        "21"
       ]
      },
      {
       "output_type": "stream",
       "stream": "stdout",
       "text": [
        "\n",
        "22"
       ]
      },
      {
       "output_type": "stream",
       "stream": "stdout",
       "text": [
        "\n",
        "23"
       ]
      },
      {
       "output_type": "stream",
       "stream": "stdout",
       "text": [
        "\n",
        "24"
       ]
      },
      {
       "output_type": "stream",
       "stream": "stdout",
       "text": [
        "\n",
        "25"
       ]
      },
      {
       "output_type": "stream",
       "stream": "stdout",
       "text": [
        "\n",
        "26"
       ]
      },
      {
       "output_type": "stream",
       "stream": "stdout",
       "text": [
        "\n",
        "27"
       ]
      },
      {
       "output_type": "stream",
       "stream": "stdout",
       "text": [
        "\n",
        "28"
       ]
      },
      {
       "output_type": "stream",
       "stream": "stdout",
       "text": [
        "\n",
        "29"
       ]
      },
      {
       "output_type": "stream",
       "stream": "stdout",
       "text": [
        "\n",
        "30"
       ]
      },
      {
       "output_type": "stream",
       "stream": "stdout",
       "text": [
        "\n",
        "31"
       ]
      },
      {
       "output_type": "stream",
       "stream": "stdout",
       "text": [
        "\n",
        "32"
       ]
      },
      {
       "output_type": "stream",
       "stream": "stdout",
       "text": [
        "\n",
        "33"
       ]
      },
      {
       "output_type": "stream",
       "stream": "stdout",
       "text": [
        "\n",
        "34"
       ]
      },
      {
       "output_type": "stream",
       "stream": "stdout",
       "text": [
        "\n",
        "35"
       ]
      },
      {
       "output_type": "stream",
       "stream": "stdout",
       "text": [
        "\n",
        "36"
       ]
      },
      {
       "output_type": "stream",
       "stream": "stdout",
       "text": [
        "\n",
        "37"
       ]
      },
      {
       "output_type": "stream",
       "stream": "stdout",
       "text": [
        "\n",
        "38"
       ]
      },
      {
       "output_type": "stream",
       "stream": "stdout",
       "text": [
        "\n",
        "39"
       ]
      },
      {
       "output_type": "stream",
       "stream": "stdout",
       "text": [
        "\n",
        "40"
       ]
      },
      {
       "output_type": "stream",
       "stream": "stdout",
       "text": [
        "\n",
        "41"
       ]
      },
      {
       "output_type": "stream",
       "stream": "stdout",
       "text": [
        "\n"
       ]
      }
     ],
     "prompt_number": 31
    },
    {
     "cell_type": "heading",
     "level": 2,
     "metadata": {},
     "source": [
      "1. Our Simple Model - Based on the dataset's overall Mean CTR"
     ]
    },
    {
     "cell_type": "markdown",
     "metadata": {},
     "source": [
      "Our first model will be based off of frequentist statistics, in which we estimate ALL test ad impressions have equal probability of being clicked. We will base that probability on the aggregate CTR of the training dataset"
     ]
    },
    {
     "cell_type": "code",
     "collapsed": false,
     "input": [
      "#load the training data and find out the CTR, in aggregate, of the ads\n",
      "train_df = pd.DataFrame.from_csv('data/train.csv', index_col=None)\n",
      "test_df = pd.DataFrame.from_csv('data/test.csv', index_col=None)"
     ],
     "language": "python",
     "metadata": {},
     "outputs": [],
     "prompt_number": "*"
    },
    {
     "cell_type": "code",
     "collapsed": false,
     "input": [
      "#overview of the training data - the 'click' column is the one we're trying to predict\n",
      "print len(train_df)\n",
      "print len(test_df)\n",
      "train_df.head()"
     ],
     "language": "python",
     "metadata": {},
     "outputs": [
      {
       "html": [
        "<pre>\n",
        "&lt;class 'pandas.core.frame.DataFrame'&gt;\n",
        "Int64Index: 5 entries, 0 to 4\n",
        "Data columns (total 24 columns):\n",
        "id                  5  non-null values\n",
        "click               5  non-null values\n",
        "hour                5  non-null values\n",
        "C1                  5  non-null values\n",
        "banner_pos          5  non-null values\n",
        "site_id             5  non-null values\n",
        "site_domain         5  non-null values\n",
        "site_category       5  non-null values\n",
        "app_id              5  non-null values\n",
        "app_domain          5  non-null values\n",
        "app_category        5  non-null values\n",
        "device_id           5  non-null values\n",
        "device_ip           5  non-null values\n",
        "device_model        5  non-null values\n",
        "device_type         5  non-null values\n",
        "device_conn_type    5  non-null values\n",
        "C14                 5  non-null values\n",
        "C15                 5  non-null values\n",
        "C16                 5  non-null values\n",
        "C17                 5  non-null values\n",
        "C18                 5  non-null values\n",
        "C19                 5  non-null values\n",
        "C20                 5  non-null values\n",
        "C21                 5  non-null values\n",
        "dtypes: float64(13), int64(1), object(10)\n",
        "</pre>"
       ],
       "metadata": {},
       "output_type": "pyout",
       "prompt_number": 27,
       "text": [
        "<class 'pandas.core.frame.DataFrame'>\n",
        "Int64Index: 5 entries, 0 to 4\n",
        "Data columns (total 24 columns):\n",
        "id                  5  non-null values\n",
        "click               5  non-null values\n",
        "hour                5  non-null values\n",
        "C1                  5  non-null values\n",
        "banner_pos          5  non-null values\n",
        "site_id             5  non-null values\n",
        "site_domain         5  non-null values\n",
        "site_category       5  non-null values\n",
        "app_id              5  non-null values\n",
        "app_domain          5  non-null values\n",
        "app_category        5  non-null values\n",
        "device_id           5  non-null values\n",
        "device_ip           5  non-null values\n",
        "device_model        5  non-null values\n",
        "device_type         5  non-null values\n",
        "device_conn_type    5  non-null values\n",
        "C14                 5  non-null values\n",
        "C15                 5  non-null values\n",
        "C16                 5  non-null values\n",
        "C17                 5  non-null values\n",
        "C18                 5  non-null values\n",
        "C19                 5  non-null values\n",
        "C20                 5  non-null values\n",
        "C21                 5  non-null values\n",
        "dtypes: float64(13), int64(1), object(10)"
       ]
      }
     ],
     "prompt_number": 27
    },
    {
     "cell_type": "code",
     "collapsed": false,
     "input": [
      "#summary of the click data, which is a binary variable [(0,1)]\n",
      "train_df.click.describe() #mean = 0.159970"
     ],
     "language": "python",
     "metadata": {},
     "outputs": [
      {
       "metadata": {},
       "output_type": "pyout",
       "prompt_number": 20,
       "text": [
        "count    1021422.000000\n",
        "mean           0.159970\n",
        "std            0.366579\n",
        "min            0.000000\n",
        "25%            0.000000\n",
        "50%            0.000000\n",
        "75%            0.000000\n",
        "max            1.000000\n",
        "dtype: float64"
       ]
      }
     ],
     "prompt_number": 20
    },
    {
     "cell_type": "code",
     "collapsed": false,
     "input": [
      "#Create a submission dataframe with only the ID's from the test set\n",
      "train_mean_ctr = 0.159970\n",
      "submission_df = pd.DataFrame(test_df.iloc[:,0]) #column 0 is the id column\n",
      "submission_df['click'] = train_mean_ctr\n",
      "submission_df.head()"
     ],
     "language": "python",
     "metadata": {},
     "outputs": [
      {
       "html": [
        "<div style=\"max-height:1000px;max-width:1500px;overflow:auto;\">\n",
        "<table border=\"1\" class=\"dataframe\">\n",
        "  <thead>\n",
        "    <tr style=\"text-align: right;\">\n",
        "      <th></th>\n",
        "      <th>id</th>\n",
        "      <th>click</th>\n",
        "    </tr>\n",
        "  </thead>\n",
        "  <tbody>\n",
        "    <tr>\n",
        "      <th>0</th>\n",
        "      <td> 10000174058809263569</td>\n",
        "      <td> 0.15997</td>\n",
        "    </tr>\n",
        "    <tr>\n",
        "      <th>1</th>\n",
        "      <td> 10000182526920855428</td>\n",
        "      <td> 0.15997</td>\n",
        "    </tr>\n",
        "    <tr>\n",
        "      <th>2</th>\n",
        "      <td> 10000554139829213984</td>\n",
        "      <td> 0.15997</td>\n",
        "    </tr>\n",
        "    <tr>\n",
        "      <th>3</th>\n",
        "      <td> 10001094637809798845</td>\n",
        "      <td> 0.15997</td>\n",
        "    </tr>\n",
        "    <tr>\n",
        "      <th>4</th>\n",
        "      <td> 10001377041558670745</td>\n",
        "      <td> 0.15997</td>\n",
        "    </tr>\n",
        "  </tbody>\n",
        "</table>\n",
        "</div>"
       ],
       "metadata": {},
       "output_type": "pyout",
       "prompt_number": 50,
       "text": [
        "                     id    click\n",
        "0  10000174058809263569  0.15997\n",
        "1  10000182526920855428  0.15997\n",
        "2  10000554139829213984  0.15997\n",
        "3  10001094637809798845  0.15997\n",
        "4  10001377041558670745  0.15997"
       ]
      }
     ],
     "prompt_number": 50
    },
    {
     "cell_type": "code",
     "collapsed": false,
     "input": [
      "#Export our submission!\n",
      "submission_df.to_csv('submissions/frequentist_model_submission_2015-01-02.csv', index=False)"
     ],
     "language": "python",
     "metadata": {},
     "outputs": [],
     "prompt_number": 52
    }
   ],
   "metadata": {}
  }
 ]
}